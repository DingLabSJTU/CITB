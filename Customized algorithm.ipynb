{
 "cells": [
  {
   "cell_type": "markdown",
   "metadata": {
    "collapsed": false,
    "jupyter": {
     "outputs_hidden": false
    },
    "pycharm": {
     "name": "#%% md\n"
    }
   },
   "source": [
    "Part 1: Image alignment"
   ]
  },
  {
   "cell_type": "code",
   "execution_count": 1,
   "metadata": {
    "pycharm": {
     "name": "#%%\n"
    }
   },
   "outputs": [],
   "source": [
    "import cv2\n",
    "import numpy as np\n",
    "\n",
    "# Load image\n",
    "m1 = cv2.imread('D://m1.tif')\n",
    "m2 = cv2.imread('D://m2.tif')\n",
    "m3 = cv2.imread('D://m3.tif')\n",
    "\n",
    "# Create SIFT detector\n",
    "sift = cv2.SIFT_create()\n",
    "\n",
    "def align_images(im1, im2):\n",
    "    # Convert to grayscale image\n",
    "    gray1 = cv2.cvtColor(im1, cv2.COLOR_BGR2GRAY)\n",
    "    gray2 = cv2.cvtColor(im2, cv2.COLOR_BGR2GRAY)\n",
    "\n",
    "    # Detect feature points and descriptors\n",
    "    keypoints1, descriptors1 = sift.detectAndCompute(gray1, None)\n",
    "    keypoints2, descriptors2 = sift.detectAndCompute(gray2, None)\n",
    "\n",
    "    # Create a BFMatcher object\n",
    "    bf = cv2.BFMatcher(cv2.NORM_L2, crossCheck=True)\n",
    "\n",
    "    # Match descriptors\n",
    "    matches = bf.match(descriptors1, descriptors2)\n",
    "\n",
    "    # Sort by distance\n",
    "    matches = sorted(matches, key=lambda x: x.distance)\n",
    "\n",
    "    # Extract coordinates of matched points\n",
    "    points1 = np.zeros((len(matches), 2), dtype=np.float32)\n",
    "    points2 = np.zeros((len(matches), 2), dtype=np.float32)\n",
    "\n",
    "    for i, match in enumerate(matches):\n",
    "        points1[i, :] = keypoints1[match.queryIdx].pt\n",
    "        points2[i, :] = keypoints2[match.trainIdx].pt\n",
    "\n",
    "    # calculate a homography matrix\n",
    "    h, mask = cv2.findHomography(points1, points2, cv2.RANSAC)\n",
    "\n",
    "    # Transform the image using the homologous matrix\n",
    "    height, width, channels = im2.shape\n",
    "    im1_aligned = cv2.warpPerspective(im1, h, (width, height))\n",
    "\n",
    "    return im1_aligned\n",
    "\n",
    "# Align images\n",
    "m1_aligned = align_images(m1, m2)\n",
    "m2_aligned = m2 # m2 is the reference image\n",
    "m3_aligned = align_images(m3, m2)\n",
    "\n",
    "# Save aligned images\n",
    "cv2.imwrite('D://m1_aligned.tif', m1_aligned)\n",
    "cv2.imwrite('D://m2_aligned.tif', m2_aligned)\n",
    "cv2.imwrite('D://m3_aligned.tif', m3_aligned)\n",
    "\n",
    "# Separate images to red, yellow and green channels, and save each channel\n",
    "for i, aligned_image in enumerate([m1_aligned, m2_aligned, m3_aligned], start=1):\n",
    "    zeros = np.zeros_like(aligned_image[:, :, 0])\n",
    "    for j, channel in enumerate(['b', 'g', 'r']):\n",
    "        color_image = np.stack([\n",
    "            aligned_image[:, :, j] if k == j else zeros for k in range(3)\n",
    "        ], axis=-1)\n",
    "        cv2.imwrite(f'D://mm{i}-{channel}.tif', color_image)"
   ]
  },
  {
   "cell_type": "markdown",
   "metadata": {
    "collapsed": false,
    "jupyter": {
     "outputs_hidden": false
    },
    "pycharm": {
     "name": "#%% md\n"
    }
   },
   "source": [
    "Part 2: Target reconstruction"
   ]
  },
  {
   "cell_type": "code",
   "execution_count": 7,
   "metadata": {},
   "outputs": [
    {
     "data": {
      "text/plain": [
       "True"
      ]
     },
     "execution_count": 7,
     "metadata": {},
     "output_type": "execute_result"
    }
   ],
   "source": [
    "# Separate the channels for each image\n",
    "def split_channels(image):\n",
    "    r, g, b = cv2.split(image)\n",
    "    return g, b, r  \n",
    "\n",
    "# Extract the gray value for each channel. y, yellow, Cy3; g, green, Fam; r, red, Cy5\n",
    "Image1_y = cv2.imread('D://mm1-b.tif', cv2.IMREAD_GRAYSCALE)\n",
    "Image1_g = cv2.imread('D://mm1-g.tif', cv2.IMREAD_GRAYSCALE)\n",
    "Image1_r = cv2.imread('D://mm1-r.tif', cv2.IMREAD_GRAYSCALE)\n",
    "\n",
    "Image2_y = cv2.imread('D://mm2-b.tif', cv2.IMREAD_GRAYSCALE)\n",
    "Image2_g = cv2.imread('D://mm2-g.tif', cv2.IMREAD_GRAYSCALE)\n",
    "Image2_r = cv2.imread('D://mm2-r.tif', cv2.IMREAD_GRAYSCALE)\n",
    "\n",
    "Image3_y = cv2.imread('D://mm3-b.tif', cv2.IMREAD_GRAYSCALE)\n",
    "Image3_g = cv2.imread('D://mm3-g.tif', cv2.IMREAD_GRAYSCALE)\n",
    "Image3_r = cv2.imread('D://mm3-r.tif', cv2.IMREAD_GRAYSCALE)\n",
    "\n",
    "\n",
    "# Get the size of each image\n",
    "height, width = Image1_g.shape\n",
    "\n",
    "# Create an empty matrix to store the new gray value\n",
    "new_gray_values = np.zeros((height, width), dtype=np.uint8)\n",
    "\n",
    "# Traverse each pixel coordinate\n",
    "for i in range(height):\n",
    "    for j in range(width):\n",
    "        # Calculate the new gray value according to the pre-set color barcode (the following is just an example for SV2)\n",
    "        if Image1_g[i, j] > Image2_g[i, j]:\n",
    "            new_gray_values[i, j] = Image1_g[i, j] - Image2_g[i, j]\n",
    "        else:\n",
    "            new_gray_values[i, j] = 0\n",
    "# Convert the new grayscale value matrix to an image\n",
    "cv2.imwrite('D://SV2.tif', new_gray_values)"
   ]
  }
 ],
 "metadata": {
  "kernelspec": {
   "display_name": "Python 3 (ipykernel)",
   "language": "python",
   "name": "python3"
  },
  "language_info": {
   "codemirror_mode": {
    "name": "ipython",
    "version": 3
   },
   "file_extension": ".py",
   "mimetype": "text/x-python",
   "name": "python",
   "nbconvert_exporter": "python",
   "pygments_lexer": "ipython3",
   "version": "3.11.7"
  }
 },
 "nbformat": 4,
 "nbformat_minor": 4
}
