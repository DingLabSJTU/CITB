{
 "cells": [
  {
   "cell_type": "markdown",
   "metadata": {
    "collapsed": false,
    "pycharm": {
     "name": "#%% md\n"
    }
   },
   "source": [
    "Part1"
   ]
  },
  {
   "cell_type": "code",
   "execution_count": 1,
   "metadata": {
    "collapsed": true,
    "pycharm": {
     "name": "#%%\n"
    }
   },
   "outputs": [],
   "source": [
    "import cv2\n",
    "import numpy as np\n",
    "\n",
    "# 加载图像\n",
    "m1 = cv2.imread('./test/m1.jpg')\n",
    "m2 = cv2.imread('./test/m2.jpg')\n",
    "m3 = cv2.imread('./test/m3.jpg')\n",
    "\n",
    "# 创建SIFT检测器\n",
    "sift = cv2.SIFT_create()\n",
    "\n",
    "def align_images(im1, im2):\n",
    "    # 转换为灰度图像\n",
    "    gray1 = cv2.cvtColor(im1, cv2.COLOR_BGR2GRAY)\n",
    "    gray2 = cv2.cvtColor(im2, cv2.COLOR_BGR2GRAY)\n",
    "\n",
    "    # 检测特征点和描述符\n",
    "    keypoints1, descriptors1 = sift.detectAndCompute(gray1, None)\n",
    "    keypoints2, descriptors2 = sift.detectAndCompute(gray2, None)\n",
    "\n",
    "    # 创建BFMatcher对象\n",
    "    bf = cv2.BFMatcher(cv2.NORM_L2, crossCheck=True)\n",
    "\n",
    "    # 匹配描述符\n",
    "    matches = bf.match(descriptors1, descriptors2)\n",
    "\n",
    "    # 根据距离排序\n",
    "    matches = sorted(matches, key=lambda x: x.distance)\n",
    "\n",
    "    # 提取匹配点坐标\n",
    "    points1 = np.zeros((len(matches), 2), dtype=np.float32)\n",
    "    points2 = np.zeros((len(matches), 2), dtype=np.float32)\n",
    "\n",
    "    for i, match in enumerate(matches):\n",
    "        points1[i, :] = keypoints1[match.queryIdx].pt\n",
    "        points2[i, :] = keypoints2[match.trainIdx].pt\n",
    "\n",
    "    # 计算单应性矩阵\n",
    "    h, mask = cv2.findHomography(points1, points2, cv2.RANSAC)\n",
    "\n",
    "    # 使用单应性矩阵变换图像\n",
    "    height, width, channels = im2.shape\n",
    "    im1_aligned = cv2.warpPerspective(im1, h, (width, height))\n",
    "\n",
    "    return im1_aligned\n",
    "\n",
    "# 对齐图像\n",
    "m1_aligned = align_images(m1, m2)\n",
    "m2_aligned = m2 # m2 is the reference image\n",
    "m3_aligned = align_images(m3, m2)\n",
    "\n",
    "# 保存对齐后的图像\n",
    "cv2.imwrite('./output/m1_aligned.jpg', m1_aligned)\n",
    "cv2.imwrite('./output/m2_aligned.jpg', m2_aligned)\n",
    "cv2.imwrite('./output/m3_aligned.jpg', m3_aligned)\n",
    "\n",
    "# 分离和保存每个通道\n",
    "for i, aligned_image in enumerate([m1_aligned, m2_aligned, m3_aligned], start=1):\n",
    "    zeros = np.zeros_like(aligned_image[:, :, 0])\n",
    "    for j, channel in enumerate(['b', 'g', 'r']):\n",
    "        color_image = np.stack([\n",
    "            aligned_image[:, :, j] if k == j else zeros for k in range(3)\n",
    "        ], axis=-1)\n",
    "        cv2.imwrite(f'./output/m{i}-{channel}.jpg', color_image)"
   ]
  },
  {
   "cell_type": "markdown",
   "metadata": {
    "collapsed": false,
    "pycharm": {
     "name": "#%% md\n"
    }
   },
   "source": [
    "Part2"
   ]
  },
  {
   "cell_type": "code",
   "execution_count": 2,
   "metadata": {
    "collapsed": false,
    "pycharm": {
     "name": "#%%\n"
    }
   },
   "outputs": [
    {
     "data": {
      "text/plain": [
       "True"
      ]
     },
     "execution_count": 2,
     "metadata": {},
     "output_type": "execute_result"
    }
   ],
   "source": [
    "# 分离每个图像的通道\n",
    "def split_channels(image):\n",
    "    r, g, b = cv2.split(image)\n",
    "    return g, b, r  # 注意OpenCV加载图像的顺序是BGR，所以这里需要调整顺序\n",
    "\n",
    "# 提取通道灰度值\n",
    "Image1_g = cv2.imread('./test/1.jpg', cv2.IMREAD_GRAYSCALE)\n",
    "Image1_y = cv2.imread('./test/2.jpg', cv2.IMREAD_GRAYSCALE)\n",
    "Image1_r = cv2.imread('./test/3.jpg', cv2.IMREAD_GRAYSCALE)\n",
    "\n",
    "Image2_g = cv2.imread('./test/4.jpg', cv2.IMREAD_GRAYSCALE)\n",
    "Image2_y = cv2.imread('./test/5.jpg', cv2.IMREAD_GRAYSCALE)\n",
    "Image2_r = cv2.imread('./test/6.jpg', cv2.IMREAD_GRAYSCALE)\n",
    "\n",
    "Image3_g = cv2.imread('./test/7.jpg', cv2.IMREAD_GRAYSCALE)\n",
    "Image3_y = cv2.imread('./test/8.jpg', cv2.IMREAD_GRAYSCALE)\n",
    "Image3_r = cv2.imread('./test/9.jpg', cv2.IMREAD_GRAYSCALE)\n",
    "\n",
    "\n",
    "# 获取图像的尺寸\n",
    "height, width = Image1_g.shape\n",
    "\n",
    "# 创建一个空矩阵用于存储新的灰度值\n",
    "new_gray_values = np.zeros((height, width), dtype=np.uint8)\n",
    "\n",
    "# 遍历每个像素坐标\n",
    "for i in range(height):\n",
    "    for j in range(width):\n",
    "        # 根据条件计算新的灰度值\n",
    "        if Image1_g[i, j] > 50 and Image1_y[i, j] < 30 and Image1_r[i, j] > 100:\n",
    "            new_gray_values[i, j] = 90\n",
    "        elif Image2_g[i, j] > 50 and Image2_y[i, j] < 30 and Image2_r[i, j] > 100:\n",
    "            new_gray_values[i, j] = 100\n",
    "        elif Image3_g[i, j] > 250 and Image3_y[i, j] < 30 and Image3_r[i, j] > 100:\n",
    "            new_gray_values[i, j] = 255\n",
    "        else:\n",
    "            new_gray_values[i, j] = 0\n",
    "# 将新的灰度值矩阵转换为图像\n",
    "cv2.imwrite('./output/gray_image.jpg', new_gray_values)"
   ]
  },
  {
   "cell_type": "markdown",
   "metadata": {
    "collapsed": false,
    "pycharm": {
     "name": "#%% md\n"
    }
   },
   "source": [
    "额外代码：输出图片全黑原因，没有符合要求的坐标点，以下代码进行了手动查找，发现没有这样的点，因此输出图片全黑"
   ]
  },
  {
   "cell_type": "code",
   "execution_count": 3,
   "metadata": {
    "collapsed": false,
    "pycharm": {
     "name": "#%%\n"
    }
   },
   "outputs": [
    {
     "name": "stdout",
     "output_type": "stream",
     "text": [
      "Image1筛选结束\n",
      "Image2筛选结束\n",
      "Image3筛选结束\n"
     ]
    }
   ],
   "source": [
    "nonzero_coords = np.nonzero(Image1_g)\n",
    "# 打印非零元素的坐标\n",
    "for coord in zip(*nonzero_coords):\n",
    "    if Image1_y[coord[0]][coord[1]] < 30 and Image1_r[coord[0]][coord[1]] > 100 and Image1_g[coord[0]][coord[1]] > 50:\n",
    "        print(f\"符合Image1要求的坐标 {coord}\")\n",
    "        print(Image1_y[coord[0]][coord[1]])\n",
    "print(\"Image1筛选结束\")\n",
    "\n",
    "nonzero_coords = np.nonzero(Image2_g)\n",
    "# 打印非零元素的坐标\n",
    "for coord in zip(*nonzero_coords):\n",
    "    if Image2_y[coord[0]][coord[1]] < 30 and Image2_r[coord[0]][coord[1]] > 100 and Image2_g[coord[0]][coord[1]] > 50:\n",
    "        print(f\"符合Image2要求的坐标 {coord}\")\n",
    "        print(Image2_y[coord[0]][coord[1]])\n",
    "print(\"Image2筛选结束\")\n",
    "\n",
    "nonzero_coords = np.nonzero(Image3_g)\n",
    "# 打印非零元素的坐标\n",
    "for coord in zip(*nonzero_coords):\n",
    "    if Image3_y[coord[0]][coord[1]] < 30 and Image3_r[coord[0]][coord[1]] > 100 and Image3_g[coord[0]][coord[1]] > 50:\n",
    "        print(f\"符合Image3要求的坐标 {coord}\")\n",
    "        print(Image3_y[coord[0]][coord[1]])\n",
    "print(\"Image3筛选结束\")"
   ]
  },
  {
   "cell_type": "markdown",
   "metadata": {
    "collapsed": false,
    "pycharm": {
     "name": "#%% md\n"
    }
   },
   "source": []
  }
 ],
 "metadata": {
  "kernelspec": {
   "display_name": "Python 3",
   "language": "python",
   "name": "python3"
  },
  "language_info": {
   "codemirror_mode": {
    "name": "ipython",
    "version": 2
   },
   "file_extension": ".py",
   "mimetype": "text/x-python",
   "name": "python",
   "nbconvert_exporter": "python",
   "pygments_lexer": "ipython2",
   "version": "2.7.6"
  }
 },
 "nbformat": 4,
 "nbformat_minor": 0
}
